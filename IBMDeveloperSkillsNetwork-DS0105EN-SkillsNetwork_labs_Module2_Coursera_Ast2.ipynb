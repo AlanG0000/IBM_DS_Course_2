{
  "metadata": {
    "kernelspec": {
      "name": "python",
      "display_name": "Pyolite",
      "language": "python"
    },
    "language_info": {
      "codemirror_mode": {
        "name": "python",
        "version": 3
      },
      "file_extension": ".py",
      "mimetype": "text/x-python",
      "name": "python",
      "nbconvert_exporter": "python",
      "pygments_lexer": "ipython3",
      "version": "3.8"
    }
  },
  "nbformat_minor": 4,
  "nbformat": 4,
  "cells": [
    {
      "cell_type": "markdown",
      "source": "<center>\n    <img src=\"https://cf-courses-data.s3.us.cloud-object-storage.appdomain.cloud/IBMDeveloperSkillsNetwork-DS0105EN-SkillsNetwork/labs/Module2/images/SN_web_lightmode.png\" width=\"300\" alt=\"cognitiveclass.ai logo\"  />\n</center>\n",
      "metadata": {}
    },
    {
      "cell_type": "markdown",
      "source": "#### Add your code below following the instructions given in the course\n",
      "metadata": {}
    },
    {
      "cell_type": "markdown",
      "source": "# My Jupyter Notebook on IBM Watson Studio",
      "metadata": {}
    },
    {
      "cell_type": "markdown",
      "source": "**Alan Gaugler**<br>\nI am currently a student studying a Master of Data Science Degree.",
      "metadata": {}
    },
    {
      "cell_type": "markdown",
      "source": "<i>I am interested in data science because it is a fascinating field where I can apply my mathematical, programming and scientific skills into one profession. The job prospects for a data scientist are in high demanding, so I believe it will be a rewarding career.<i>",
      "metadata": {}
    },
    {
      "cell_type": "markdown",
      "source": "### The code in cell 5 is a loop from 1 to 10 which displays the index and the number of stars of that index.",
      "metadata": {}
    },
    {
      "cell_type": "code",
      "source": "for idx in range(1,11):\n    print(idx,\"stars: \",\"*\"*idx)",
      "metadata": {
        "trusted": true
      },
      "execution_count": 9,
      "outputs": [
        {
          "name": "stdout",
          "text": "1 stars:  *\n2 stars:  **\n3 stars:  ***\n4 stars:  ****\n5 stars:  *****\n6 stars:  ******\n7 stars:  *******\n8 stars:  ********\n9 stars:  *********\n10 stars:  **********\n",
          "output_type": "stream"
        }
      ]
    },
    {
      "cell_type": "markdown",
      "source": "This cell contains a horizontal rule immediately after this sentence.\n<hr>\nThen it contains a hyperlink to this course in Coursera:<br>\n\n__[IBM Data Science Professional Certificate](https://www.coursera.org/professional-certificates/ibm-data-science)__\n\n~~This line is strikethrough~~\n\nand finally a numbered list:\n1. Line 1\n2. Line 2\n3. Line 3",
      "metadata": {}
    }
  ]
}